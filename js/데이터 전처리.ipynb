{
 "cells": [
  {
   "cell_type": "code",
   "execution_count": 1,
   "metadata": {},
   "outputs": [],
   "source": [
    "import pandas as pd\n",
    "import numpy as np"
   ]
  },
  {
   "cell_type": "code",
   "execution_count": null,
   "metadata": {},
   "outputs": [],
   "source": [
    "#asd"
   ]
  },
  {
   "cell_type": "code",
   "execution_count": 2,
   "metadata": {},
   "outputs": [],
   "source": [
    "train = pd.read_csv(\"C:/Users/삼성/OneDrive - 계명대학교/바탕 화면/날씨빅콘/날씨 데이터셋/ele_tr.csv\")\n",
    "test = pd.read_csv(\"C:/Users/삼성/OneDrive - 계명대학교/바탕 화면/날씨빅콘/날씨 데이터셋/ele_te.csv\")"
   ]
  },
  {
   "cell_type": "code",
   "execution_count": 3,
   "metadata": {},
   "outputs": [],
   "source": [
    "train.rename(columns={'electric_train.num': '격자넘버'}, inplace=True)\n",
    "train.rename(columns={'electric_train.tm': '날짜'}, inplace=True)\n",
    "train.rename(columns={'electric_train.hh24': '시간'}, inplace=True)\n",
    "train.rename(columns={'electric_train.n': '공동주택수'}, inplace=True)\n",
    "train.rename(columns={'electric_train.stn': '지점번호'}, inplace=True)\n",
    "train.rename(columns={'electric_train.sum_qctr': '계약전력합계'}, inplace=True)\n",
    "train.rename(columns={'electric_train.sum_load': '전력수요합계'}, inplace=True)\n",
    "train.rename(columns={'electric_train.n_mean_load': '전력부하량평균'}, inplace=True)\n",
    "train.rename(columns={'electric_train.nph_ta': '기온'}, inplace=True)\n",
    "train.rename(columns={'electric_train.nph_hm': '상대습도'}, inplace=True)\n",
    "train.rename(columns={'electric_train.nph_ws_10m': '풍속'}, inplace=True)\n",
    "train.rename(columns={'electric_train.nph_rn_60m': '강수량'}, inplace=True)\n",
    "train.rename(columns={'electric_train.nph_ta_chi': '체감온도'}, inplace=True)\n",
    "train.rename(columns={'electric_train.weekday': '요일'}, inplace=True)\n",
    "train.rename(columns={'electric_train.week_name': '주중주말'}, inplace=True)\n",
    "train.rename(columns={'electric_train.elec':'전력기상지수'}, inplace=True)"
   ]
  },
  {
   "cell_type": "code",
   "execution_count": 4,
   "metadata": {},
   "outputs": [],
   "source": [
    "test.rename(columns={'electric_test.num': '격자넘버'}, inplace=True)\n",
    "test.rename(columns={'electric_test.tm': '날짜'}, inplace=True)\n",
    "test.rename(columns={'electric_test.hh24': '시간'}, inplace=True)\n",
    "test.rename(columns={'electric_test.stn': '지점번호'}, inplace=True)\n",
    "test.rename(columns={'electric_test.nph_ta': '기온'}, inplace=True)\n",
    "test.rename(columns={'electric_test.nph_hm': '상대습도'}, inplace=True)\n",
    "test.rename(columns={'electric_test.nph_ws_10m': '풍속'}, inplace=True)\n",
    "test.rename(columns={'electric_test.nph_rn_60m': '강수량'}, inplace=True)\n",
    "test.rename(columns={'electric_test.nph_ta_chi': '체감온도'}, inplace=True)\n",
    "test.rename(columns={'electric_test.weekday': '요일'}, inplace=True)\n",
    "test.rename(columns={'electric_test.week_name': '주중주말'}, inplace=True)"
   ]
  },
  {
   "cell_type": "code",
   "execution_count": 5,
   "metadata": {},
   "outputs": [
    {
     "data": {
      "text/plain": [
       "Unnamed: 0    0\n",
       "격자넘버          0\n",
       "날짜            0\n",
       "시간            0\n",
       "공동주택수         0\n",
       "지점번호          0\n",
       "계약전력합계        0\n",
       "전력수요합계        0\n",
       "전력부하량평균       0\n",
       "기온            0\n",
       "상대습도          0\n",
       "풍속            0\n",
       "강수량           0\n",
       "체감온도          0\n",
       "요일            0\n",
       "주중주말          0\n",
       "전력기상지수        0\n",
       "dtype: int64"
      ]
     },
     "execution_count": 5,
     "metadata": {},
     "output_type": "execute_result"
    }
   ],
   "source": [
    "train.isnull().sum()"
   ]
  },
  {
   "cell_type": "code",
   "execution_count": 6,
   "metadata": {},
   "outputs": [
    {
     "data": {
      "text/plain": [
       "Unnamed: 0      0\n",
       "격자넘버            0\n",
       "날짜              0\n",
       "시간              0\n",
       "공동주택수           0\n",
       "지점번호            0\n",
       "계약전력합계          0\n",
       "전력수요합계          0\n",
       "전력부하량평균         0\n",
       "기온              0\n",
       "상대습도            0\n",
       "풍속            169\n",
       "강수량             0\n",
       "체감온도            0\n",
       "요일              0\n",
       "주중주말            0\n",
       "전력기상지수          5\n",
       "dtype: int64"
      ]
     },
     "execution_count": 6,
     "metadata": {},
     "output_type": "execute_result"
    }
   ],
   "source": [
    "(train == -99).sum()"
   ]
  },
  {
   "cell_type": "code",
   "execution_count": 7,
   "metadata": {},
   "outputs": [
    {
     "data": {
      "text/plain": [
       "Unnamed: 0     0\n",
       "격자넘버           0\n",
       "날짜             0\n",
       "시간             0\n",
       "지점번호           0\n",
       "기온             0\n",
       "상대습도           0\n",
       "풍속            32\n",
       "강수량           92\n",
       "체감온도           0\n",
       "요일             0\n",
       "주중주말           0\n",
       "dtype: int64"
      ]
     },
     "execution_count": 7,
     "metadata": {},
     "output_type": "execute_result"
    }
   ],
   "source": [
    "(test == -99).sum()"
   ]
  },
  {
   "cell_type": "code",
   "execution_count": 8,
   "metadata": {},
   "outputs": [
    {
     "data": {
      "text/html": [
       "<div>\n",
       "<style scoped>\n",
       "    .dataframe tbody tr th:only-of-type {\n",
       "        vertical-align: middle;\n",
       "    }\n",
       "\n",
       "    .dataframe tbody tr th {\n",
       "        vertical-align: top;\n",
       "    }\n",
       "\n",
       "    .dataframe thead th {\n",
       "        text-align: right;\n",
       "    }\n",
       "</style>\n",
       "<table border=\"1\" class=\"dataframe\">\n",
       "  <thead>\n",
       "    <tr style=\"text-align: right;\">\n",
       "      <th></th>\n",
       "      <th>Unnamed: 0</th>\n",
       "      <th>격자넘버</th>\n",
       "      <th>날짜</th>\n",
       "      <th>시간</th>\n",
       "      <th>지점번호</th>\n",
       "      <th>기온</th>\n",
       "      <th>상대습도</th>\n",
       "      <th>풍속</th>\n",
       "      <th>강수량</th>\n",
       "      <th>체감온도</th>\n",
       "      <th>요일</th>\n",
       "      <th>주중주말</th>\n",
       "    </tr>\n",
       "  </thead>\n",
       "  <tbody>\n",
       "    <tr>\n",
       "      <th>693</th>\n",
       "      <td>694</td>\n",
       "      <td>2385</td>\n",
       "      <td>2023-01-29 22:00:00</td>\n",
       "      <td>22</td>\n",
       "      <td>303</td>\n",
       "      <td>7.3</td>\n",
       "      <td>54.0</td>\n",
       "      <td>-99.0</td>\n",
       "      <td>0.0</td>\n",
       "      <td>7.3</td>\n",
       "      <td>6</td>\n",
       "      <td>1</td>\n",
       "    </tr>\n",
       "    <tr>\n",
       "      <th>2565</th>\n",
       "      <td>2566</td>\n",
       "      <td>2385</td>\n",
       "      <td>2023-04-17 22:00:00</td>\n",
       "      <td>22</td>\n",
       "      <td>303</td>\n",
       "      <td>15.8</td>\n",
       "      <td>70.0</td>\n",
       "      <td>24.6</td>\n",
       "      <td>-99.0</td>\n",
       "      <td>15.8</td>\n",
       "      <td>0</td>\n",
       "      <td>0</td>\n",
       "    </tr>\n",
       "    <tr>\n",
       "      <th>2566</th>\n",
       "      <td>2567</td>\n",
       "      <td>2385</td>\n",
       "      <td>2023-04-17 23:00:00</td>\n",
       "      <td>23</td>\n",
       "      <td>303</td>\n",
       "      <td>16.0</td>\n",
       "      <td>73.9</td>\n",
       "      <td>24.3</td>\n",
       "      <td>-99.0</td>\n",
       "      <td>16.0</td>\n",
       "      <td>0</td>\n",
       "      <td>0</td>\n",
       "    </tr>\n",
       "    <tr>\n",
       "      <th>2567</th>\n",
       "      <td>2568</td>\n",
       "      <td>2385</td>\n",
       "      <td>2023-04-18 00:00:00</td>\n",
       "      <td>24</td>\n",
       "      <td>303</td>\n",
       "      <td>16.2</td>\n",
       "      <td>79.1</td>\n",
       "      <td>23.8</td>\n",
       "      <td>-99.0</td>\n",
       "      <td>16.2</td>\n",
       "      <td>1</td>\n",
       "      <td>0</td>\n",
       "    </tr>\n",
       "    <tr>\n",
       "      <th>3029</th>\n",
       "      <td>3030</td>\n",
       "      <td>2385</td>\n",
       "      <td>2023-05-07 06:00:00</td>\n",
       "      <td>6</td>\n",
       "      <td>303</td>\n",
       "      <td>13.5</td>\n",
       "      <td>93.4</td>\n",
       "      <td>-99.0</td>\n",
       "      <td>-99.0</td>\n",
       "      <td>16.1</td>\n",
       "      <td>6</td>\n",
       "      <td>1</td>\n",
       "    </tr>\n",
       "    <tr>\n",
       "      <th>...</th>\n",
       "      <td>...</td>\n",
       "      <td>...</td>\n",
       "      <td>...</td>\n",
       "      <td>...</td>\n",
       "      <td>...</td>\n",
       "      <td>...</td>\n",
       "      <td>...</td>\n",
       "      <td>...</td>\n",
       "      <td>...</td>\n",
       "      <td>...</td>\n",
       "      <td>...</td>\n",
       "      <td>...</td>\n",
       "    </tr>\n",
       "    <tr>\n",
       "      <th>8155</th>\n",
       "      <td>8156</td>\n",
       "      <td>2385</td>\n",
       "      <td>2023-12-06 20:00:00</td>\n",
       "      <td>20</td>\n",
       "      <td>303</td>\n",
       "      <td>11.8</td>\n",
       "      <td>65.9</td>\n",
       "      <td>16.9</td>\n",
       "      <td>-99.0</td>\n",
       "      <td>11.8</td>\n",
       "      <td>2</td>\n",
       "      <td>0</td>\n",
       "    </tr>\n",
       "    <tr>\n",
       "      <th>8156</th>\n",
       "      <td>8157</td>\n",
       "      <td>2385</td>\n",
       "      <td>2023-12-06 21:00:00</td>\n",
       "      <td>21</td>\n",
       "      <td>303</td>\n",
       "      <td>11.6</td>\n",
       "      <td>58.5</td>\n",
       "      <td>17.2</td>\n",
       "      <td>-99.0</td>\n",
       "      <td>11.6</td>\n",
       "      <td>2</td>\n",
       "      <td>0</td>\n",
       "    </tr>\n",
       "    <tr>\n",
       "      <th>8157</th>\n",
       "      <td>8158</td>\n",
       "      <td>2385</td>\n",
       "      <td>2023-12-06 22:00:00</td>\n",
       "      <td>22</td>\n",
       "      <td>303</td>\n",
       "      <td>11.7</td>\n",
       "      <td>63.9</td>\n",
       "      <td>14.8</td>\n",
       "      <td>-99.0</td>\n",
       "      <td>11.7</td>\n",
       "      <td>2</td>\n",
       "      <td>0</td>\n",
       "    </tr>\n",
       "    <tr>\n",
       "      <th>8158</th>\n",
       "      <td>8159</td>\n",
       "      <td>2385</td>\n",
       "      <td>2023-12-06 23:00:00</td>\n",
       "      <td>23</td>\n",
       "      <td>303</td>\n",
       "      <td>11.4</td>\n",
       "      <td>60.8</td>\n",
       "      <td>15.1</td>\n",
       "      <td>-99.0</td>\n",
       "      <td>11.4</td>\n",
       "      <td>2</td>\n",
       "      <td>0</td>\n",
       "    </tr>\n",
       "    <tr>\n",
       "      <th>8159</th>\n",
       "      <td>8160</td>\n",
       "      <td>2385</td>\n",
       "      <td>2023-12-07 00:00:00</td>\n",
       "      <td>24</td>\n",
       "      <td>303</td>\n",
       "      <td>10.9</td>\n",
       "      <td>56.7</td>\n",
       "      <td>17.2</td>\n",
       "      <td>-99.0</td>\n",
       "      <td>10.9</td>\n",
       "      <td>3</td>\n",
       "      <td>0</td>\n",
       "    </tr>\n",
       "  </tbody>\n",
       "</table>\n",
       "<p>96 rows × 12 columns</p>\n",
       "</div>"
      ],
      "text/plain": [
       "      Unnamed: 0  격자넘버                   날짜  시간  지점번호    기온  상대습도    풍속   강수량  \\\n",
       "693          694  2385  2023-01-29 22:00:00  22   303   7.3  54.0 -99.0   0.0   \n",
       "2565        2566  2385  2023-04-17 22:00:00  22   303  15.8  70.0  24.6 -99.0   \n",
       "2566        2567  2385  2023-04-17 23:00:00  23   303  16.0  73.9  24.3 -99.0   \n",
       "2567        2568  2385  2023-04-18 00:00:00  24   303  16.2  79.1  23.8 -99.0   \n",
       "3029        3030  2385  2023-05-07 06:00:00   6   303  13.5  93.4 -99.0 -99.0   \n",
       "...          ...   ...                  ...  ..   ...   ...   ...   ...   ...   \n",
       "8155        8156  2385  2023-12-06 20:00:00  20   303  11.8  65.9  16.9 -99.0   \n",
       "8156        8157  2385  2023-12-06 21:00:00  21   303  11.6  58.5  17.2 -99.0   \n",
       "8157        8158  2385  2023-12-06 22:00:00  22   303  11.7  63.9  14.8 -99.0   \n",
       "8158        8159  2385  2023-12-06 23:00:00  23   303  11.4  60.8  15.1 -99.0   \n",
       "8159        8160  2385  2023-12-07 00:00:00  24   303  10.9  56.7  17.2 -99.0   \n",
       "\n",
       "      체감온도  요일  주중주말  \n",
       "693    7.3   6     1  \n",
       "2565  15.8   0     0  \n",
       "2566  16.0   0     0  \n",
       "2567  16.2   1     0  \n",
       "3029  16.1   6     1  \n",
       "...    ...  ..   ...  \n",
       "8155  11.8   2     0  \n",
       "8156  11.6   2     0  \n",
       "8157  11.7   2     0  \n",
       "8158  11.4   2     0  \n",
       "8159  10.9   3     0  \n",
       "\n",
       "[96 rows x 12 columns]"
      ]
     },
     "execution_count": 8,
     "metadata": {},
     "output_type": "execute_result"
    }
   ],
   "source": [
    "# test -99 행만 추출\n",
    "# -99 값을 포함하는 행을 추출\n",
    "test[test.isin([-99]).any(axis=1)]"
   ]
  },
  {
   "cell_type": "code",
   "execution_count": 9,
   "metadata": {},
   "outputs": [
    {
     "name": "stdout",
     "output_type": "stream",
     "text": [
      "(7593355, 17)\n",
      "(2838239, 12)\n"
     ]
    }
   ],
   "source": [
    "# -99 제거 전\n",
    "print(train.shape)\n",
    "print(test.shape)"
   ]
  },
  {
   "cell_type": "markdown",
   "metadata": {},
   "source": [
    "#### -99 값 제거"
   ]
  },
  {
   "cell_type": "code",
   "execution_count": 10,
   "metadata": {},
   "outputs": [],
   "source": [
    "# -99 값을 포함하는 행을 제거\n",
    "train_cleaned = train[~train.isin([-99]).any(axis=1)]"
   ]
  },
  {
   "cell_type": "code",
   "execution_count": 11,
   "metadata": {},
   "outputs": [
    {
     "data": {
      "text/plain": [
       "Unnamed: 0    0\n",
       "격자넘버          0\n",
       "날짜            0\n",
       "시간            0\n",
       "공동주택수         0\n",
       "지점번호          0\n",
       "계약전력합계        0\n",
       "전력수요합계        0\n",
       "전력부하량평균       0\n",
       "기온            0\n",
       "상대습도          0\n",
       "풍속            0\n",
       "강수량           0\n",
       "체감온도          0\n",
       "요일            0\n",
       "주중주말          0\n",
       "전력기상지수        0\n",
       "dtype: int64"
      ]
     },
     "execution_count": 11,
     "metadata": {},
     "output_type": "execute_result"
    }
   ],
   "source": [
    "(train_cleaned == -99).sum()"
   ]
  },
  {
   "cell_type": "code",
   "execution_count": 12,
   "metadata": {},
   "outputs": [],
   "source": [
    "# test\n",
    "test_cleaned = test[~test.isin([-99]).any(axis=1)]"
   ]
  },
  {
   "cell_type": "code",
   "execution_count": 13,
   "metadata": {},
   "outputs": [
    {
     "data": {
      "text/plain": [
       "Unnamed: 0    0\n",
       "격자넘버          0\n",
       "날짜            0\n",
       "시간            0\n",
       "지점번호          0\n",
       "기온            0\n",
       "상대습도          0\n",
       "풍속            0\n",
       "강수량           0\n",
       "체감온도          0\n",
       "요일            0\n",
       "주중주말          0\n",
       "dtype: int64"
      ]
     },
     "execution_count": 13,
     "metadata": {},
     "output_type": "execute_result"
    }
   ],
   "source": [
    "(test_cleaned == -99).sum()"
   ]
  },
  {
   "cell_type": "code",
   "execution_count": 15,
   "metadata": {},
   "outputs": [
    {
     "name": "stdout",
     "output_type": "stream",
     "text": [
      "(7593181, 17)\n",
      "(2838143, 12)\n"
     ]
    }
   ],
   "source": [
    "# -99 제거 후\n",
    "print(train_cleaned.shape) # 174\n",
    "print(test_cleaned.shape) # 96"
   ]
  },
  {
   "cell_type": "markdown",
   "metadata": {},
   "source": [
    "#### 데이터 EDA"
   ]
  },
  {
   "cell_type": "code",
   "execution_count": 16,
   "metadata": {},
   "outputs": [],
   "source": [
    "import seaborn as sns\n",
    "import matplotlib.pyplot as plt"
   ]
  },
  {
   "cell_type": "code",
   "execution_count": 17,
   "metadata": {},
   "outputs": [
    {
     "name": "stdout",
     "output_type": "stream",
     "text": [
      "<class 'pandas.core.frame.DataFrame'>\n",
      "Index: 7593181 entries, 0 to 7593354\n",
      "Data columns (total 17 columns):\n",
      " #   Column      Dtype  \n",
      "---  ------      -----  \n",
      " 0   Unnamed: 0  int64  \n",
      " 1   격자넘버        int64  \n",
      " 2   날짜          object \n",
      " 3   시간          int64  \n",
      " 4   공동주택수       int64  \n",
      " 5   지점번호        int64  \n",
      " 6   계약전력합계      int64  \n",
      " 7   전력수요합계      float64\n",
      " 8   전력부하량평균     float64\n",
      " 9   기온          float64\n",
      " 10  상대습도        float64\n",
      " 11  풍속          float64\n",
      " 12  강수량         float64\n",
      " 13  체감온도        float64\n",
      " 14  요일          int64  \n",
      " 15  주중주말        int64  \n",
      " 16  전력기상지수      float64\n",
      "dtypes: float64(8), int64(8), object(1)\n",
      "memory usage: 1.0+ GB\n"
     ]
    }
   ],
   "source": [
    "train_cleaned.info()"
   ]
  },
  {
   "cell_type": "code",
   "execution_count": 18,
   "metadata": {},
   "outputs": [],
   "source": [
    "# 나눔 글꼴을 지정하기 위해 matplotlib의 rc 설정을 사용\n",
    "# 경로에 있는 글꼴을 지정합니다. 글꼴 파일의 경로를 올바르게 지정해야 합니다.\n",
    "import matplotlib.font_manager as fm\n",
    "nanum_gothic_font_path = 'C:/WINDOWS/Fonts/NGULIM.TTF'\n",
    "font_name = fm.FontProperties(fname=nanum_gothic_font_path).get_name()\n",
    "plt.rc('font', family = font_name)"
   ]
  },
  {
   "cell_type": "code",
   "execution_count": 19,
   "metadata": {},
   "outputs": [
    {
     "data": {
      "image/png": "[encoded data removed]",
      "text/plain": [
       "<Figure size 432x288 with 1 Axes>"
      ]
     },
     "metadata": {
      "needs_background": "light"
     },
     "output_type": "display_data"
    },
    {
     "data": {
      "image/png": "[encoded data removed]",
      "text/plain": [
       "<Figure size 432x288 with 1 Axes>"
      ]
     },
     "metadata": {
      "needs_background": "light"
     },
     "output_type": "display_data"
    },
    {
     "data": {
      "image/png": "[encoded data removed]",
      "text/plain": [
       "<Figure size 432x288 with 1 Axes>"
      ]
     },
     "metadata": {
      "needs_background": "light"
     },
     "output_type": "display_data"
    },
    {
     "data": {
      "image/png": "[encoded data removed]",
      "text/plain": [
       "<Figure size 432x288 with 1 Axes>"
      ]
     },
     "metadata": {
      "needs_background": "light"
     },
     "output_type": "display_data"
    },
    {
     "data": {
      "image/png": "[encoded data removed]",
      "text/plain": [
       "<Figure size 432x288 with 1 Axes>"
      ]
     },
     "metadata": {
      "needs_background": "light"
     },
     "output_type": "display_data"
    },
    {
     "data": {
      "image/png": "[encoded data removed]",
      "text/plain": [
       "<Figure size 432x288 with 1 Axes>"
      ]
     },
     "metadata": {
      "needs_background": "light"
     },
     "output_type": "display_data"
    },
    {
     "data": {
      "image/png": "[encoded data removed]",
      "text/plain": [
       "<Figure size 432x288 with 1 Axes>"
      ]
     },
     "metadata": {
      "needs_background": "light"
     },
     "output_type": "display_data"
    },
    {
     "data": {
      "image/png": "[encoded data removed]",
      "text/plain": [
       "<Figure size 432x288 with 1 Axes>"
      ]
     },
     "metadata": {
      "needs_background": "light"
     },
     "output_type": "display_data"
    },
    {
     "data": {
      "image/png": "[encoded data removed]",
      "text/plain": [
       "<Figure size 432x288 with 1 Axes>"
      ]
     },
     "metadata": {
      "needs_background": "light"
     },
     "output_type": "display_data"
    },
    {
     "data": {
      "image/png": "[encoded data removed]",
      "text/plain": [
       "<Figure size 432x288 with 1 Axes>"
      ]
     },
     "metadata": {
      "needs_background": "light"
     },
     "output_type": "display_data"
    },
    {
     "data": {
      "image/png": "[encoded data removed]",
      "text/plain": [
       "<Figure size 432x288 with 1 Axes>"
      ]
     },
     "metadata": {
      "needs_background": "light"
     },
     "output_type": "display_data"
    },
    {
     "data": {
      "image/png": "[encoded data removed]",
      "text/plain": [
       "<Figure size 432x288 with 1 Axes>"
      ]
     },
     "metadata": {
      "needs_background": "light"
     },
     "output_type": "display_data"
    },
    {
     "data": {
      "image/png": "[encoded data removed]",
      "text/plain": [
       "<Figure size 432x288 with 1 Axes>"
      ]
     },
     "metadata": {
      "needs_background": "light"
     },
     "output_type": "display_data"
    },
    {
     "data": {
      "image/png": "[encoded data removed]",
      "text/plain": [
       "<Figure size 432x288 with 1 Axes>"
      ]
     },
     "metadata": {
      "needs_background": "light"
     },
     "output_type": "display_data"
    },
    {
     "data": {
      "image/png": "[encoded data removed]",
      "text/plain": [
       "<Figure size 432x288 with 1 Axes>"
      ]
     },
     "metadata": {
      "needs_background": "light"
     },
     "output_type": "display_data"
    },
    {
     "data": {
      "image/png": "[encoded data removed]",
      "text/plain": [
       "<Figure size 432x288 with 1 Axes>"
      ]
     },
     "metadata": {
      "needs_background": "light"
     },
     "output_type": "display_data"
    }
   ],
   "source": [
    "# 각 열별로 박스플롯 그리기\n",
    "for column in train_cleaned.columns:\n",
    "    if train_cleaned[column].dtype in ['int64', 'float64']:  # 숫자형 열만 선택\n",
    "        plt.figure(figsize=(6, 4))\n",
    "        sns.boxplot(x=train_cleaned[column])\n",
    "        plt.title(f'Box Plot of {column}')\n",
    "        plt.xlabel('Values')\n",
    "        plt.show()"
   ]
  },
  {
   "cell_type": "code",
   "execution_count": 22,
   "metadata": {},
   "outputs": [],
   "source": [
    "def detect_outliers_iqr(df, columns=None):\n",
    "    if columns is None:\n",
    "        columns = df.columns\n",
    "    outliers = {}\n",
    "    outlier_ratios = {}\n",
    "    for column in columns:\n",
    "        if column in df.columns:\n",
    "            Q1 = df[column].quantile(0.25)\n",
    "            Q3 = df[column].quantile(0.75)\n",
    "            IQR = Q3 - Q1\n",
    "            lower_bound = Q1 - 1.5 * IQR\n",
    "            upper_bound = Q3 + 1.5 * IQR\n",
    "            outliers[column] = df[(df[column] < lower_bound) | (df[column] > upper_bound)][column]\n",
    "            outlier_count = len(outliers[column])\n",
    "            total_count = len(df[column])\n",
    "            outlier_ratio = outlier_count / total_count\n",
    "            outlier_ratios[column] = outlier_ratio\n",
    "    return outliers, outlier_ratios"
   ]
  },
  {
   "cell_type": "code",
   "execution_count": 23,
   "metadata": {},
   "outputs": [
    {
     "name": "stdout",
     "output_type": "stream",
     "text": [
      "\n",
      "이상치 비율:\n",
      " ({'계약전력합계': 640104     172212\n",
      "640105     172212\n",
      "640106     172212\n",
      "640107     172212\n",
      "640108     172212\n",
      "            ...  \n",
      "7032182    190730\n",
      "7032183    190730\n",
      "7032184    190730\n",
      "7032185    190730\n",
      "7032186    190730\n",
      "Name: 계약전력합계, Length: 526146, dtype: int64, '전력수요합계': 364699     26646.08\n",
      "364700     26922.32\n",
      "364701     26522.96\n",
      "364723     26858.72\n",
      "364724     26970.68\n",
      "             ...   \n",
      "7335422    26933.80\n",
      "7335423    26187.52\n",
      "7335518    27064.20\n",
      "7335519    27068.16\n",
      "7335520    26123.08\n",
      "Name: 전력수요합계, Length: 440913, dtype: float64, '전력부하량평균': 719016     475.794091\n",
      "719017     475.794091\n",
      "719018     475.794091\n",
      "719019     475.794091\n",
      "719020     475.794091\n",
      "              ...    \n",
      "7190006    603.878552\n",
      "7190007    603.878552\n",
      "7190008    603.878552\n",
      "7190009    603.878552\n",
      "7190010    603.878552\n",
      "Name: 전력부하량평균, Length: 175340, dtype: float64, '기온': 79082     -13.8\n",
      "79083     -13.9\n",
      "79085     -14.0\n",
      "79086     -13.8\n",
      "79087     -14.6\n",
      "           ... \n",
      "7584454   -14.8\n",
      "7584455   -14.9\n",
      "7584456   -15.1\n",
      "7584457   -15.7\n",
      "7584458   -15.4\n",
      "Name: 기온, Length: 2874, dtype: float64, '상대습도': 955454     8.3\n",
      "955455     8.7\n",
      "1314924    8.3\n",
      "1314925    7.8\n",
      "1314926    8.1\n",
      "          ... \n",
      "7532042    8.7\n",
      "7532043    8.4\n",
      "7550842    8.3\n",
      "7550843    8.8\n",
      "7574556    7.8\n",
      "Name: 상대습도, Length: 649, dtype: float64, '풍속': 547        6.4\n",
      "548        6.6\n",
      "549        7.2\n",
      "550        7.4\n",
      "551        7.0\n",
      "          ... \n",
      "7592490    6.5\n",
      "7592491    6.1\n",
      "7592492    7.0\n",
      "7592493    7.1\n",
      "7593130    5.9\n",
      "Name: 풍속, Length: 276104, dtype: float64, '강수량': 144        0.1\n",
      "155        0.1\n",
      "158        0.1\n",
      "179        0.3\n",
      "180        0.3\n",
      "          ... \n",
      "7592560    1.6\n",
      "7592561    5.8\n",
      "7592562    1.7\n",
      "7592568    0.7\n",
      "7592569    0.1\n",
      "Name: 강수량, Length: 393232, dtype: float64, '체감온도': 1999323   -24.0\n",
      "1999324   -25.4\n",
      "1999325   -24.7\n",
      "1999326   -26.7\n",
      "1999347   -25.0\n",
      "           ... \n",
      "7128792   -24.2\n",
      "7155096   -23.9\n",
      "7172640   -24.5\n",
      "7304160   -23.9\n",
      "7462009   -24.0\n",
      "Name: 체감온도, Length: 111, dtype: float64, '전력기상지수': 4435       165.70\n",
      "4436       164.56\n",
      "4458       166.06\n",
      "4459       173.19\n",
      "4460       176.33\n",
      "            ...  \n",
      "7590039    187.29\n",
      "7590040    180.56\n",
      "7590041    170.77\n",
      "7590062    165.46\n",
      "7590063    164.20\n",
      "Name: 전력기상지수, Length: 182634, dtype: float64}, {'계약전력합계': 0.06929190809490779, '전력수요합계': 0.058066968244270746, '전력부하량평균': 0.023091771419646127, '기온': 0.00037849749663546804, '상대습도': 8.54714249535208e-05, '풍속': 0.03636209909917859, '강수량': 0.05178751830095977, '체감온도': 1.461837930638029e-05, '전력기상지수': 0.024052370146319443})\n"
     ]
    }
   ],
   "source": [
    "# 특정 열을 지정하여 함수 호출\n",
    "columns_to_check = ['계약전력합계', '전력수요합계', '전력부하량평균', '기온', '상대습도', '풍속', '강수량', '체감온도', '전력기상지수']  # 확인하고 싶은 열을 리스트로 지정\n",
    "outlier_ratios= detect_outliers_iqr(train_cleaned, columns_to_check)\n",
    "\n",
    "print(\"\\n이상치 비율:\\n\", outlier_ratios)"
   ]
  },
  {
   "cell_type": "code",
   "execution_count": 24,
   "metadata": {},
   "outputs": [
    {
     "data": {
      "image/png": "[encoded data removed]",
      "text/plain": [
       "<Figure size 576x432 with 2 Axes>"
      ]
     },
     "metadata": {
      "needs_background": "light"
     },
     "output_type": "display_data"
    }
   ],
   "source": [
    "# 상관 행렬 계산\n",
    "corr = train_cleaned[['계약전력합계', '전력수요합계', '전력부하량평균', '기온', '상대습도', '풍속', '강수량', '체감온도', '전력기상지수']].corr()\n",
    "\n",
    "# 히트맵 생성\n",
    "plt.figure(figsize=(8, 6))\n",
    "sns.heatmap(corr, annot=True, cmap='coolwarm', fmt=\".2f\")\n",
    "plt.title('Correlation Matrix')\n",
    "plt.show()"
   ]
  },
  {
   "cell_type": "markdown",
   "metadata": {},
   "source": [
    "#### 계절변수 추가"
   ]
  },
  {
   "cell_type": "code",
   "execution_count": 16,
   "metadata": {},
   "outputs": [],
   "source": [
    "train = train_cleaned.sort_values(by='날짜')\n",
    "test = test_cleaned.sort_values(by='날짜')"
   ]
  },
  {
   "cell_type": "code",
   "execution_count": 17,
   "metadata": {},
   "outputs": [],
   "source": [
    "train['날짜'] = pd.to_datetime(train['날짜'])\n",
    "test['날짜'] = pd.to_datetime(test['날짜'])"
   ]
  },
  {
   "cell_type": "code",
   "execution_count": 18,
   "metadata": {},
   "outputs": [],
   "source": [
    "def assign_season(date):\n",
    "    if (date.month == 2) or (date.month == 3) or (date.month == 4):\n",
    "        return '봄'\n",
    "    elif (date.month == 5) or (date.month == 6) or (date.month == 7):\n",
    "        return '여름'\n",
    "    elif (date.month == 8) or (date.month == 9) or (date.month == 10):\n",
    "        return '가을'\n",
    "    else:\n",
    "        return '겨울'\n",
    "\n",
    "# '계절' 컬럼 생성\n",
    "train['계절'] = train['날짜'].apply(assign_season)\n",
    "test['계절'] = test['날짜'].apply(assign_season)"
   ]
  },
  {
   "cell_type": "code",
   "execution_count": 19,
   "metadata": {},
   "outputs": [
    {
     "data": {
      "text/plain": [
       "계절\n",
       "겨울    1912127\n",
       "가을    1912062\n",
       "여름    1912019\n",
       "봄     1856973\n",
       "Name: count, dtype: int64"
      ]
     },
     "execution_count": 19,
     "metadata": {},
     "output_type": "execute_result"
    }
   ],
   "source": [
    "train['계절'].value_counts()"
   ]
  },
  {
   "cell_type": "code",
   "execution_count": 20,
   "metadata": {},
   "outputs": [
    {
     "data": {
      "text/html": [
       "<div>\n",
       "<style scoped>\n",
       "    .dataframe tbody tr th:only-of-type {\n",
       "        vertical-align: middle;\n",
       "    }\n",
       "\n",
       "    .dataframe tbody tr th {\n",
       "        vertical-align: top;\n",
       "    }\n",
       "\n",
       "    .dataframe thead th {\n",
       "        text-align: right;\n",
       "    }\n",
       "</style>\n",
       "<table border=\"1\" class=\"dataframe\">\n",
       "  <thead>\n",
       "    <tr style=\"text-align: right;\">\n",
       "      <th></th>\n",
       "      <th>Unnamed: 0</th>\n",
       "      <th>격자넘버</th>\n",
       "      <th>날짜</th>\n",
       "      <th>시간</th>\n",
       "      <th>공동주택수</th>\n",
       "      <th>지점번호</th>\n",
       "      <th>계약전력합계</th>\n",
       "      <th>전력수요합계</th>\n",
       "      <th>전력부하량평균</th>\n",
       "      <th>기온</th>\n",
       "      <th>...</th>\n",
       "      <th>풍속</th>\n",
       "      <th>강수량</th>\n",
       "      <th>체감온도</th>\n",
       "      <th>요일</th>\n",
       "      <th>주중주말</th>\n",
       "      <th>전력기상지수</th>\n",
       "      <th>계절</th>\n",
       "      <th>년</th>\n",
       "      <th>월</th>\n",
       "      <th>일</th>\n",
       "    </tr>\n",
       "  </thead>\n",
       "  <tbody>\n",
       "    <tr>\n",
       "      <th>4147437</th>\n",
       "      <td>4147438</td>\n",
       "      <td>16914</td>\n",
       "      <td>2020-01-01 01:00:00</td>\n",
       "      <td>1</td>\n",
       "      <td>10</td>\n",
       "      <td>127</td>\n",
       "      <td>15550</td>\n",
       "      <td>2421.96</td>\n",
       "      <td>231.707030</td>\n",
       "      <td>-0.2</td>\n",
       "      <td>...</td>\n",
       "      <td>4.5</td>\n",
       "      <td>0.0</td>\n",
       "      <td>-8.5</td>\n",
       "      <td>2</td>\n",
       "      <td>0</td>\n",
       "      <td>104.53</td>\n",
       "      <td>겨울</td>\n",
       "      <td>2020</td>\n",
       "      <td>1</td>\n",
       "      <td>1</td>\n",
       "    </tr>\n",
       "    <tr>\n",
       "      <th>2963662</th>\n",
       "      <td>2963663</td>\n",
       "      <td>14240</td>\n",
       "      <td>2020-01-01 01:00:00</td>\n",
       "      <td>1</td>\n",
       "      <td>12</td>\n",
       "      <td>279</td>\n",
       "      <td>19500</td>\n",
       "      <td>3067.80</td>\n",
       "      <td>258.394386</td>\n",
       "      <td>-1.2</td>\n",
       "      <td>...</td>\n",
       "      <td>2.0</td>\n",
       "      <td>0.0</td>\n",
       "      <td>-8.4</td>\n",
       "      <td>2</td>\n",
       "      <td>0</td>\n",
       "      <td>98.94</td>\n",
       "      <td>겨울</td>\n",
       "      <td>2020</td>\n",
       "      <td>1</td>\n",
       "      <td>1</td>\n",
       "    </tr>\n",
       "    <tr>\n",
       "      <th>2902270</th>\n",
       "      <td>2902271</td>\n",
       "      <td>14235</td>\n",
       "      <td>2020-01-01 01:00:00</td>\n",
       "      <td>1</td>\n",
       "      <td>18</td>\n",
       "      <td>822</td>\n",
       "      <td>19674</td>\n",
       "      <td>3204.88</td>\n",
       "      <td>173.613430</td>\n",
       "      <td>-2.3</td>\n",
       "      <td>...</td>\n",
       "      <td>1.1</td>\n",
       "      <td>0.0</td>\n",
       "      <td>-7.4</td>\n",
       "      <td>2</td>\n",
       "      <td>0</td>\n",
       "      <td>102.55</td>\n",
       "      <td>겨울</td>\n",
       "      <td>2020</td>\n",
       "      <td>1</td>\n",
       "      <td>1</td>\n",
       "    </tr>\n",
       "  </tbody>\n",
       "</table>\n",
       "<p>3 rows × 21 columns</p>\n",
       "</div>"
      ],
      "text/plain": [
       "         Unnamed: 0   격자넘버                  날짜  시간  공동주택수  지점번호  계약전력합계  \\\n",
       "4147437     4147438  16914 2020-01-01 01:00:00   1     10   127   15550   \n",
       "2963662     2963663  14240 2020-01-01 01:00:00   1     12   279   19500   \n",
       "2902270     2902271  14235 2020-01-01 01:00:00   1     18   822   19674   \n",
       "\n",
       "          전력수요합계     전력부하량평균   기온  ...   풍속  강수량  체감온도  요일  주중주말  전력기상지수  계절  \\\n",
       "4147437  2421.96  231.707030 -0.2  ...  4.5  0.0  -8.5   2     0  104.53  겨울   \n",
       "2963662  3067.80  258.394386 -1.2  ...  2.0  0.0  -8.4   2     0   98.94  겨울   \n",
       "2902270  3204.88  173.613430 -2.3  ...  1.1  0.0  -7.4   2     0  102.55  겨울   \n",
       "\n",
       "            년  월  일  \n",
       "4147437  2020  1  1  \n",
       "2963662  2020  1  1  \n",
       "2902270  2020  1  1  \n",
       "\n",
       "[3 rows x 21 columns]"
      ]
     },
     "execution_count": 20,
     "metadata": {},
     "output_type": "execute_result"
    }
   ],
   "source": [
    "def assign_date(df, date_column):\n",
    "    df['년'] = df[date_column].dt.year\n",
    "    df['월'] = df[date_column].dt.month\n",
    "    df['일'] = df[date_column].dt.day\n",
    "    df['시간'] = df[date_column].dt.hour\n",
    "    return df\n",
    "\n",
    "train = assign_date(train, '날짜')\n",
    "test = assign_date(test, '날짜')\n",
    "train.head(3)"
   ]
  },
  {
   "cell_type": "code",
   "execution_count": 22,
   "metadata": {},
   "outputs": [],
   "source": [
    "test.to_csv(\"C:/Users/삼성/OneDrive - 계명대학교/바탕 화면/날씨빅콘/날씨 데이터셋/전처리_test.csv\")\n",
    "train.to_csv(\"C:/Users/삼성/OneDrive - 계명대학교/바탕 화면/날씨빅콘/날씨 데이터셋/전처리_train.csv\")"
   ]
  },
  {
   "cell_type": "code",
   "execution_count": null,
   "metadata": {},
   "outputs": [],
   "source": []
  }
 ],
 "metadata": {
  "kernelspec": {
   "display_name": "Python 3",
   "language": "python",
   "name": "python3"
  },
  "language_info": {
   "codemirror_mode": {
    "name": "ipython",
    "version": 3
   },
   "file_extension": ".py",
   "mimetype": "text/x-python",
   "name": "python",
   "nbconvert_exporter": "python",
   "pygments_lexer": "ipython3",
   "version": "3.10.4"
  }
 },
 "nbformat": 4,
 "nbformat_minor": 2
}
