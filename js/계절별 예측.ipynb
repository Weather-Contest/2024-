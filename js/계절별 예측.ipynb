{
 "cells": [
  {
   "cell_type": "markdown",
   "metadata": {},
   "source": [
    "### 계약전력합계 : 해당 건물이 계약한 최대 전력량\n",
    "### 전력수요합계 : 주어진 시간 동안 소비된 총 전력량\n",
    "### 전력부하량 평균 : 주어진 시간 동안의 평균 전력 부하량"
   ]
  },
  {
   "cell_type": "code",
   "execution_count": 1,
   "metadata": {},
   "outputs": [],
   "source": [
    "import pandas as pd"
   ]
  },
  {
   "cell_type": "code",
   "execution_count": 16,
   "metadata": {},
   "outputs": [],
   "source": [
    "train = pd.read_csv(\"C:/Users/삼성/OneDrive - 계명대학교/바탕 화면/날씨빅콘/날씨 데이터셋/파생변수_train.csv\")\n",
    "test = pd.read_csv(\"C:/Users/삼성/OneDrive - 계명대학교/바탕 화면/날씨빅콘/real2_ele_te.csv\")"
   ]
  },
  {
   "cell_type": "code",
   "execution_count": 3,
   "metadata": {},
   "outputs": [
    {
     "data": {
      "text/plain": [
       "Index(['Unnamed: 0', '격자넘버', '날짜', '시간', '공동주택수', '지점번호', '계약전력합계', '전력수요합계',\n",
       "       '전력부하량평균', '기온', '상대습도', '풍속', '강수량', '체감온도', '요일', '주중주말', '전력기상지수',\n",
       "       '계절', '년', '월', '일', 'CDH', 'HDH', '불쾌지수', '기온_계절별평균', '상대습도_계절별평균',\n",
       "       '체감온도_계절별평균', '풍속_계절별평균', '강수량_계절별평균'],\n",
       "      dtype='object')"
      ]
     },
     "execution_count": 3,
     "metadata": {},
     "output_type": "execute_result"
    }
   ],
   "source": [
    "train.columns"
   ]
  },
  {
   "cell_type": "code",
   "execution_count": 17,
   "metadata": {},
   "outputs": [
    {
     "data": {
      "text/plain": [
       "Index(['Unnamed: 0', 'electric_test.num', 'electric_test.tm',\n",
       "       'electric_test.hh24', 'electric_test.stn', 'electric_test.nph_ta',\n",
       "       'electric_test.nph_hm', 'electric_test.nph_ws_10m',\n",
       "       'electric_test.nph_rn_60m', 'electric_test.nph_ta_chi',\n",
       "       'electric_test.weekday', 'electric_test.week_name'],\n",
       "      dtype='object')"
      ]
     },
     "execution_count": 17,
     "metadata": {},
     "output_type": "execute_result"
    }
   ],
   "source": [
    "test.columns"
   ]
  },
  {
   "cell_type": "code",
   "execution_count": 18,
   "metadata": {},
   "outputs": [],
   "source": [
    "test.rename(columns={'electric_test.num': '격자넘버'}, inplace=True)\n",
    "test.rename(columns={'electric_test.tm': '날짜'}, inplace=True)\n",
    "test.rename(columns={'electric_test.hh24': '시간'}, inplace=True)\n",
    "test.rename(columns={'electric_test.stn': '지점번호'}, inplace=True)\n",
    "test.rename(columns={'electric_test.nph_ta': '기온'}, inplace=True)\n",
    "test.rename(columns={'electric_test.nph_hm': '상대습도'}, inplace=True)\n",
    "test.rename(columns={'electric_test.nph_ws_10m': '풍속'}, inplace=True)\n",
    "test.rename(columns={'electric_test.nph_rn_60m': '강수량'}, inplace=True)\n",
    "test.rename(columns={'electric_test.nph_ta_chi': '체감온도'}, inplace=True)\n",
    "test.rename(columns={'electric_test.weekday': '요일'}, inplace=True)\n",
    "test.rename(columns={'electric_test.week_name': '주중주말'}, inplace=True)"
   ]
  },
  {
   "cell_type": "code",
   "execution_count": 19,
   "metadata": {},
   "outputs": [],
   "source": [
    "# 파생변수생성\n",
    "# CDH, HDH 생성\n",
    "\n",
    "# 기준 온도 설정 (일반적으로 18°C)\n",
    "base_temp = 18.0\n",
    "\n",
    "# CDH와 HDH 계산 함수\n",
    "def calculate_cdh(temp, base_temp):\n",
    "    return max(0, temp - base_temp)\n",
    "\n",
    "def calculate_hdh(temp, base_temp):\n",
    "    return max(0, base_temp - temp)\n",
    "\n",
    "# test 셋\n",
    "test['CDH'] = test.apply(lambda x: calculate_cdh(x['기온'], base_temp), axis=1)\n",
    "test['HDH'] = test.apply(lambda x: calculate_hdh(x['기온'], base_temp), axis=1)\n",
    "\n",
    "# 불쾌지수 컬럼 추가\n",
    "def calculate_discomfort_index(temperature, humidity):\n",
    "    return 1.8 * temperature - 0.55 * (1 - humidity / 100) * (1.8 * temperature - 26) + 32\n",
    "\n",
    "# test 셋\n",
    "test['불쾌지수'] = test.apply(lambda x: calculate_discomfort_index(x['기온'], x['상대습도']), axis=1)"
   ]
  },
  {
   "cell_type": "code",
   "execution_count": 20,
   "metadata": {},
   "outputs": [
    {
     "data": {
      "text/html": [
       "<div>\n",
       "<style scoped>\n",
       "    .dataframe tbody tr th:only-of-type {\n",
       "        vertical-align: middle;\n",
       "    }\n",
       "\n",
       "    .dataframe tbody tr th {\n",
       "        vertical-align: top;\n",
       "    }\n",
       "\n",
       "    .dataframe thead th {\n",
       "        text-align: right;\n",
       "    }\n",
       "</style>\n",
       "<table border=\"1\" class=\"dataframe\">\n",
       "  <thead>\n",
       "    <tr style=\"text-align: right;\">\n",
       "      <th></th>\n",
       "      <th>Unnamed: 0</th>\n",
       "      <th>격자넘버</th>\n",
       "      <th>날짜</th>\n",
       "      <th>시간</th>\n",
       "      <th>지점번호</th>\n",
       "      <th>기온</th>\n",
       "      <th>상대습도</th>\n",
       "      <th>풍속</th>\n",
       "      <th>강수량</th>\n",
       "      <th>체감온도</th>\n",
       "      <th>요일</th>\n",
       "      <th>주중주말</th>\n",
       "      <th>CDH</th>\n",
       "      <th>HDH</th>\n",
       "      <th>불쾌지수</th>\n",
       "      <th>계절</th>\n",
       "      <th>년</th>\n",
       "      <th>월</th>\n",
       "      <th>일</th>\n",
       "    </tr>\n",
       "  </thead>\n",
       "  <tbody>\n",
       "    <tr>\n",
       "      <th>0</th>\n",
       "      <td>1</td>\n",
       "      <td>4816</td>\n",
       "      <td>2023-01-01 01:00:00</td>\n",
       "      <td>1</td>\n",
       "      <td>752</td>\n",
       "      <td>3.0</td>\n",
       "      <td>68.6</td>\n",
       "      <td>2.9</td>\n",
       "      <td>0.0</td>\n",
       "      <td>-0.1</td>\n",
       "      <td>6</td>\n",
       "      <td>1</td>\n",
       "      <td>0.0</td>\n",
       "      <td>15.0</td>\n",
       "      <td>40.957620</td>\n",
       "      <td>겨울</td>\n",
       "      <td>2023</td>\n",
       "      <td>1</td>\n",
       "      <td>1</td>\n",
       "    </tr>\n",
       "    <tr>\n",
       "      <th>2627998</th>\n",
       "      <td>2627999</td>\n",
       "      <td>18574</td>\n",
       "      <td>2023-01-01 01:00:00</td>\n",
       "      <td>1</td>\n",
       "      <td>876</td>\n",
       "      <td>2.1</td>\n",
       "      <td>48.3</td>\n",
       "      <td>0.5</td>\n",
       "      <td>0.0</td>\n",
       "      <td>2.1</td>\n",
       "      <td>6</td>\n",
       "      <td>1</td>\n",
       "      <td>0.0</td>\n",
       "      <td>15.9</td>\n",
       "      <td>42.098257</td>\n",
       "      <td>겨울</td>\n",
       "      <td>2023</td>\n",
       "      <td>1</td>\n",
       "      <td>1</td>\n",
       "    </tr>\n",
       "    <tr>\n",
       "      <th>201480</th>\n",
       "      <td>201481</td>\n",
       "      <td>18828</td>\n",
       "      <td>2023-01-01 01:00:00</td>\n",
       "      <td>1</td>\n",
       "      <td>511</td>\n",
       "      <td>0.2</td>\n",
       "      <td>54.3</td>\n",
       "      <td>1.9</td>\n",
       "      <td>0.0</td>\n",
       "      <td>-0.3</td>\n",
       "      <td>6</td>\n",
       "      <td>1</td>\n",
       "      <td>0.0</td>\n",
       "      <td>17.8</td>\n",
       "      <td>38.804614</td>\n",
       "      <td>겨울</td>\n",
       "      <td>2023</td>\n",
       "      <td>1</td>\n",
       "      <td>1</td>\n",
       "    </tr>\n",
       "  </tbody>\n",
       "</table>\n",
       "</div>"
      ],
      "text/plain": [
       "         Unnamed: 0   격자넘버                  날짜  시간  지점번호   기온  상대습도   풍속  강수량  \\\n",
       "0                 1   4816 2023-01-01 01:00:00   1   752  3.0  68.6  2.9  0.0   \n",
       "2627998     2627999  18574 2023-01-01 01:00:00   1   876  2.1  48.3  0.5  0.0   \n",
       "201480       201481  18828 2023-01-01 01:00:00   1   511  0.2  54.3  1.9  0.0   \n",
       "\n",
       "         체감온도  요일  주중주말  CDH   HDH       불쾌지수  계절     년  월  일  \n",
       "0        -0.1   6     1  0.0  15.0  40.957620  겨울  2023  1  1  \n",
       "2627998   2.1   6     1  0.0  15.9  42.098257  겨울  2023  1  1  \n",
       "201480   -0.3   6     1  0.0  17.8  38.804614  겨울  2023  1  1  "
      ]
     },
     "execution_count": 20,
     "metadata": {},
     "output_type": "execute_result"
    }
   ],
   "source": [
    "test = test.sort_values(by='날짜')\n",
    "test['날짜'] = pd.to_datetime(test['날짜'])\n",
    "\n",
    "def assign_season(date):\n",
    "    if (date.month == 2) or (date.month == 3) or (date.month == 4):\n",
    "        return '봄'\n",
    "    elif (date.month == 5) or (date.month == 6) or (date.month == 7):\n",
    "        return '여름'\n",
    "    elif (date.month == 8) or (date.month == 9) or (date.month == 10):\n",
    "        return '가을'\n",
    "    else:\n",
    "        return '겨울'\n",
    "\n",
    "# '계절' 컬럼 생성\n",
    "test['계절'] = test['날짜'].apply(assign_season)\n",
    "\n",
    "def assign_date(df, date_column):\n",
    "    df['년'] = df[date_column].dt.year\n",
    "    df['월'] = df[date_column].dt.month\n",
    "    df['일'] = df[date_column].dt.day\n",
    "    df['시간'] = df[date_column].dt.hour\n",
    "    return df\n",
    "\n",
    "test = assign_date(test, '날짜')\n",
    "test.head(3)"
   ]
  },
  {
   "cell_type": "code",
   "execution_count": 21,
   "metadata": {},
   "outputs": [],
   "source": [
    "# 계절별 평균 계산\n",
    "seasonal_averages = test.groupby('계절').agg({\n",
    "    '기온': 'mean',\n",
    "    '상대습도': 'mean',\n",
    "    '체감온도': 'mean',\n",
    "    '풍속': 'mean',\n",
    "    '강수량': 'mean'\n",
    "}).reset_index()\n",
    "\n",
    "test = test.merge(seasonal_averages, on='계절', suffixes=('', '_계절별평균'))"
   ]
  },
  {
   "cell_type": "code",
   "execution_count": 22,
   "metadata": {},
   "outputs": [
    {
     "data": {
      "text/plain": [
       "Index(['Unnamed: 0', '격자넘버', '날짜', '시간', '지점번호', '기온', '상대습도', '풍속', '강수량',\n",
       "       '체감온도', '요일', '주중주말', 'CDH', 'HDH', '불쾌지수', '계절', '년', '월', '일',\n",
       "       '기온_계절별평균', '상대습도_계절별평균', '체감온도_계절별평균', '풍속_계절별평균', '강수량_계절별평균'],\n",
       "      dtype='object')"
      ]
     },
     "execution_count": 22,
     "metadata": {},
     "output_type": "execute_result"
    }
   ],
   "source": [
    "test.columns"
   ]
  },
  {
   "cell_type": "markdown",
   "metadata": {},
   "source": [
    "### 계절별 모델 앙상블"
   ]
  },
  {
   "cell_type": "code",
   "execution_count": 38,
   "metadata": {},
   "outputs": [],
   "source": [
    "# 필요한 열만 뽑기\n",
    "train_drop = train.drop(columns = ['Unnamed: 0','날짜','공동주택수','계약전력합계','전력부하량평균',\n",
    "                                   '년','체감온도_계절별평균','상대습도_계절별평균','전력수요합계'])\n",
    "\n",
    "test_drop = test.drop(columns = ['Unnamed: 0','상대습도_계절별평균','체감온도_계절별평균','날짜','년'])"
   ]
  },
  {
   "cell_type": "code",
   "execution_count": 39,
   "metadata": {},
   "outputs": [
    {
     "name": "stdout",
     "output_type": "stream",
     "text": [
      "Index(['격자넘버', '시간', '지점번호', '기온', '상대습도', '풍속', '강수량', '체감온도', '요일', '주중주말',\n",
      "       '전력기상지수', '계절', '월', '일', 'CDH', 'HDH', '불쾌지수', '기온_계절별평균', '풍속_계절별평균',\n",
      "       '강수량_계절별평균'],\n",
      "      dtype='object')\n",
      "Index(['격자넘버', '시간', '지점번호', '기온', '상대습도', '풍속', '강수량', '체감온도', '요일', '주중주말',\n",
      "       'CDH', 'HDH', '불쾌지수', '계절', '월', '일', '기온_계절별평균', '풍속_계절별평균',\n",
      "       '강수량_계절별평균'],\n",
      "      dtype='object')\n"
     ]
    }
   ],
   "source": [
    "print(train_drop.columns)\n",
    "print(test_drop.columns)"
   ]
  },
  {
   "cell_type": "code",
   "execution_count": 41,
   "metadata": {},
   "outputs": [
    {
     "name": "stdout",
     "output_type": "stream",
     "text": [
      "Index(['격자넘버', '시간', '지점번호', '기온', '상대습도', '풍속', '강수량', '체감온도', '요일', '주중주말',\n",
      "       '전력기상지수', '월', '일', 'CDH', 'HDH', '불쾌지수', '기온_계절별평균', '풍속_계절별평균',\n",
      "       '강수량_계절별평균', '계절_가을', '계절_겨울', '계절_봄', '계절_여름'],\n",
      "      dtype='object')\n"
     ]
    }
   ],
   "source": [
    "import pandas as pd\n",
    "import numpy as np\n",
    "from sklearn.model_selection import train_test_split, GridSearchCV\n",
    "from sklearn.preprocessing import StandardScaler\n",
    "from sklearn.ensemble import RandomForestRegressor\n",
    "from sklearn.metrics import mean_absolute_error, mean_squared_error, r2_score\n",
    "\n",
    "# 모델 저장을 위한 딕셔너리 생성\n",
    "models = {}\n",
    "\n",
    "# 계절 변수를 원핫인코딩\n",
    "train_drop = pd.get_dummies(train_drop, columns=['계절'])\n",
    "\n",
    "# 원핫 인코딩 후 생성된 열 이름 확인\n",
    "print(train_drop.columns)"
   ]
  },
  {
   "cell_type": "code",
   "execution_count": 42,
   "metadata": {},
   "outputs": [
    {
     "name": "stderr",
     "output_type": "stream",
     "text": [
      "Season Progress:   0%|          | 0/4 [00:00<?, ?it/s]"
     ]
    },
    {
     "name": "stdout",
     "output_type": "stream",
     "text": [
      "[LightGBM] [Info] Auto-choosing row-wise multi-threading, the overhead of testing was 0.125254 seconds.\n",
      "You can set `force_row_wise=true` to remove the overhead.\n",
      "And if memory is not enough, you can set `force_col_wise=true`.\n",
      "[LightGBM] [Info] Total Bins 2287\n",
      "[LightGBM] [Info] Number of data points in the train set: 1529649, number of used features: 15\n",
      "[LightGBM] [Info] Start training from score 103.805943\n"
     ]
    },
    {
     "name": "stderr",
     "output_type": "stream",
     "text": [
      "Season Progress:  25%|██▌       | 1/4 [00:27<01:23, 27.95s/it]"
     ]
    },
    {
     "name": "stdout",
     "output_type": "stream",
     "text": [
      "계절 계절_가을 - MAE: 4.595052171075787\n",
      "계절 계절_가을 - RMSE: 6.530686485587127\n",
      "계절 계절_가을 - r2: 0.9530239274314444\n",
      "[LightGBM] [Info] Auto-choosing col-wise multi-threading, the overhead of testing was 0.183889 seconds.\n",
      "You can set `force_col_wise=true` to remove the overhead.\n",
      "[LightGBM] [Info] Total Bins 2067\n",
      "[LightGBM] [Info] Number of data points in the train set: 1529701, number of used features: 15\n",
      "[LightGBM] [Info] Start training from score 99.580686\n"
     ]
    },
    {
     "name": "stderr",
     "output_type": "stream",
     "text": [
      "Season Progress:  50%|█████     | 2/4 [00:49<00:48, 24.39s/it]"
     ]
    },
    {
     "name": "stdout",
     "output_type": "stream",
     "text": [
      "계절 계절_겨울 - MAE: 3.084992419474737\n",
      "계절 계절_겨울 - RMSE: 4.0644827840651825\n",
      "계절 계절_겨울 - r2: 0.9590043839453648\n",
      "[LightGBM] [Info] Auto-choosing row-wise multi-threading, the overhead of testing was 0.084194 seconds.\n",
      "You can set `force_row_wise=true` to remove the overhead.\n",
      "And if memory is not enough, you can set `force_col_wise=true`.\n",
      "[LightGBM] [Info] Total Bins 2137\n",
      "[LightGBM] [Info] Number of data points in the train set: 1485578, number of used features: 15\n",
      "[LightGBM] [Info] Start training from score 95.453931\n"
     ]
    },
    {
     "name": "stderr",
     "output_type": "stream",
     "text": [
      "Season Progress:  75%|███████▌  | 3/4 [01:10<00:22, 22.75s/it]"
     ]
    },
    {
     "name": "stdout",
     "output_type": "stream",
     "text": [
      "계절 계절_봄 - MAE: 2.8964500690856134\n",
      "계절 계절_봄 - RMSE: 3.7928242147015405\n",
      "계절 계절_봄 - r2: 0.960439446103591\n",
      "[LightGBM] [Info] Auto-choosing col-wise multi-threading, the overhead of testing was 0.168183 seconds.\n",
      "You can set `force_col_wise=true` to remove the overhead.\n",
      "[LightGBM] [Info] Total Bins 2187\n",
      "[LightGBM] [Info] Number of data points in the train set: 1529615, number of used features: 15\n",
      "[LightGBM] [Info] Start training from score 101.017813\n"
     ]
    },
    {
     "name": "stderr",
     "output_type": "stream",
     "text": [
      "Season Progress: 100%|██████████| 4/4 [01:32<00:00, 23.18s/it]"
     ]
    },
    {
     "name": "stdout",
     "output_type": "stream",
     "text": [
      "계절 계절_여름 - MAE: 4.393342639344027\n",
      "계절 계절_여름 - RMSE: 6.26333592867341\n",
      "계절 계절_여름 - r2: 0.9514075626895879\n"
     ]
    },
    {
     "name": "stderr",
     "output_type": "stream",
     "text": [
      "\n"
     ]
    }
   ],
   "source": [
    "import pandas as pd\n",
    "import numpy as np\n",
    "from sklearn.model_selection import train_test_split\n",
    "from sklearn.metrics import mean_absolute_error, mean_squared_error, r2_score\n",
    "from tqdm import tqdm  # tqdm 라이브러리 임포트\n",
    "import lightgbm as lgb\n",
    "\n",
    "# 모델 저장을 위한 딕셔너리 생성\n",
    "models = {}\n",
    "\n",
    "# 계절별로 데이터 분할 및 모델 학습\n",
    "seasons = ['계절_가을', '계절_겨울', '계절_봄', '계절_여름']\n",
    "for season in tqdm(seasons, desc=\"Season Progress\"):\n",
    "    season_data = train_drop[train_drop[season] == 1]\n",
    "    \n",
    "    X = season_data.drop(columns=['전력기상지수'])\n",
    "    y = season_data['전력기상지수']\n",
    "    \n",
    "    X_train, X_test, y_train, y_test = train_test_split(X, y, test_size=0.2, random_state=42)\n",
    "    \n",
    "    model = lgb.LGBMRegressor()\n",
    "    model.fit(X_train, y_train)\n",
    "    \n",
    "    models[season] = model\n",
    "    \n",
    "    y_pred = model.predict(X_test)\n",
    "    print(f'계절 {season} - MAE:', mean_absolute_error(y_test, y_pred))\n",
    "    print(f'계절 {season} - RMSE:', np.sqrt(mean_squared_error(y_test, y_pred)))\n",
    "    print(f'계절 {season} - r2:', r2_score(y_test, y_pred))\n"
   ]
  },
  {
   "cell_type": "code",
   "execution_count": 31,
   "metadata": {},
   "outputs": [
    {
     "data": {
      "text/plain": [
       "Index(['Unnamed: 0', 'electric_test.num', 'electric_test.tm',\n",
       "       'electric_test.hh24', 'electric_test.stn', 'electric_test.nph_ta',\n",
       "       'electric_test.nph_hm', 'electric_test.nph_ws_10m',\n",
       "       'electric_test.nph_rn_60m', 'electric_test.nph_ta_chi',\n",
       "       'electric_test.weekday', 'electric_test.week_name'],\n",
       "      dtype='object')"
      ]
     },
     "execution_count": 31,
     "metadata": {},
     "output_type": "execute_result"
    }
   ],
   "source": [
    "test.columns"
   ]
  },
  {
   "cell_type": "code",
   "execution_count": 45,
   "metadata": {},
   "outputs": [
    {
     "data": {
      "text/html": [
       "<div>\n",
       "<style scoped>\n",
       "    .dataframe tbody tr th:only-of-type {\n",
       "        vertical-align: middle;\n",
       "    }\n",
       "\n",
       "    .dataframe tbody tr th {\n",
       "        vertical-align: top;\n",
       "    }\n",
       "\n",
       "    .dataframe thead th {\n",
       "        text-align: right;\n",
       "    }\n",
       "</style>\n",
       "<table border=\"1\" class=\"dataframe\">\n",
       "  <thead>\n",
       "    <tr style=\"text-align: right;\">\n",
       "      <th></th>\n",
       "      <th>격자넘버</th>\n",
       "      <th>시간</th>\n",
       "      <th>지점번호</th>\n",
       "      <th>기온</th>\n",
       "      <th>상대습도</th>\n",
       "      <th>풍속</th>\n",
       "      <th>강수량</th>\n",
       "      <th>체감온도</th>\n",
       "      <th>요일</th>\n",
       "      <th>주중주말</th>\n",
       "      <th>CDH</th>\n",
       "      <th>HDH</th>\n",
       "      <th>불쾌지수</th>\n",
       "      <th>계절</th>\n",
       "      <th>월</th>\n",
       "      <th>일</th>\n",
       "      <th>기온_계절별평균</th>\n",
       "      <th>풍속_계절별평균</th>\n",
       "      <th>강수량_계절별평균</th>\n",
       "    </tr>\n",
       "  </thead>\n",
       "  <tbody>\n",
       "    <tr>\n",
       "      <th>0</th>\n",
       "      <td>4816</td>\n",
       "      <td>1</td>\n",
       "      <td>752</td>\n",
       "      <td>3.0</td>\n",
       "      <td>68.6</td>\n",
       "      <td>2.9</td>\n",
       "      <td>0.0</td>\n",
       "      <td>-0.1</td>\n",
       "      <td>6</td>\n",
       "      <td>1</td>\n",
       "      <td>0.0</td>\n",
       "      <td>15.0</td>\n",
       "      <td>40.957620</td>\n",
       "      <td>겨울</td>\n",
       "      <td>1</td>\n",
       "      <td>1</td>\n",
       "      <td>5.729009</td>\n",
       "      <td>2.061995</td>\n",
       "      <td>0.0742</td>\n",
       "    </tr>\n",
       "    <tr>\n",
       "      <th>1</th>\n",
       "      <td>18574</td>\n",
       "      <td>1</td>\n",
       "      <td>876</td>\n",
       "      <td>2.1</td>\n",
       "      <td>48.3</td>\n",
       "      <td>0.5</td>\n",
       "      <td>0.0</td>\n",
       "      <td>2.1</td>\n",
       "      <td>6</td>\n",
       "      <td>1</td>\n",
       "      <td>0.0</td>\n",
       "      <td>15.9</td>\n",
       "      <td>42.098257</td>\n",
       "      <td>겨울</td>\n",
       "      <td>1</td>\n",
       "      <td>1</td>\n",
       "      <td>5.729009</td>\n",
       "      <td>2.061995</td>\n",
       "      <td>0.0742</td>\n",
       "    </tr>\n",
       "    <tr>\n",
       "      <th>2</th>\n",
       "      <td>18828</td>\n",
       "      <td>1</td>\n",
       "      <td>511</td>\n",
       "      <td>0.2</td>\n",
       "      <td>54.3</td>\n",
       "      <td>1.9</td>\n",
       "      <td>0.0</td>\n",
       "      <td>-0.3</td>\n",
       "      <td>6</td>\n",
       "      <td>1</td>\n",
       "      <td>0.0</td>\n",
       "      <td>17.8</td>\n",
       "      <td>38.804614</td>\n",
       "      <td>겨울</td>\n",
       "      <td>1</td>\n",
       "      <td>1</td>\n",
       "      <td>5.729009</td>\n",
       "      <td>2.061995</td>\n",
       "      <td>0.0742</td>\n",
       "    </tr>\n",
       "    <tr>\n",
       "      <th>3</th>\n",
       "      <td>17794</td>\n",
       "      <td>1</td>\n",
       "      <td>436</td>\n",
       "      <td>-2.5</td>\n",
       "      <td>69.6</td>\n",
       "      <td>0.5</td>\n",
       "      <td>0.0</td>\n",
       "      <td>-4.1</td>\n",
       "      <td>6</td>\n",
       "      <td>1</td>\n",
       "      <td>0.0</td>\n",
       "      <td>20.5</td>\n",
       "      <td>32.599600</td>\n",
       "      <td>겨울</td>\n",
       "      <td>1</td>\n",
       "      <td>1</td>\n",
       "      <td>5.729009</td>\n",
       "      <td>2.061995</td>\n",
       "      <td>0.0742</td>\n",
       "    </tr>\n",
       "    <tr>\n",
       "      <th>4</th>\n",
       "      <td>19136</td>\n",
       "      <td>1</td>\n",
       "      <td>451</td>\n",
       "      <td>1.1</td>\n",
       "      <td>47.3</td>\n",
       "      <td>1.6</td>\n",
       "      <td>0.0</td>\n",
       "      <td>-2.5</td>\n",
       "      <td>6</td>\n",
       "      <td>1</td>\n",
       "      <td>0.0</td>\n",
       "      <td>16.9</td>\n",
       "      <td>40.942197</td>\n",
       "      <td>겨울</td>\n",
       "      <td>1</td>\n",
       "      <td>1</td>\n",
       "      <td>5.729009</td>\n",
       "      <td>2.061995</td>\n",
       "      <td>0.0742</td>\n",
       "    </tr>\n",
       "  </tbody>\n",
       "</table>\n",
       "</div>"
      ],
      "text/plain": [
       "    격자넘버  시간  지점번호   기온  상대습도   풍속  강수량  체감온도  요일  주중주말  CDH   HDH       불쾌지수  \\\n",
       "0   4816   1   752  3.0  68.6  2.9  0.0  -0.1   6     1  0.0  15.0  40.957620   \n",
       "1  18574   1   876  2.1  48.3  0.5  0.0   2.1   6     1  0.0  15.9  42.098257   \n",
       "2  18828   1   511  0.2  54.3  1.9  0.0  -0.3   6     1  0.0  17.8  38.804614   \n",
       "3  17794   1   436 -2.5  69.6  0.5  0.0  -4.1   6     1  0.0  20.5  32.599600   \n",
       "4  19136   1   451  1.1  47.3  1.6  0.0  -2.5   6     1  0.0  16.9  40.942197   \n",
       "\n",
       "   계절  월  일  기온_계절별평균  풍속_계절별평균  강수량_계절별평균  \n",
       "0  겨울  1  1  5.729009  2.061995     0.0742  \n",
       "1  겨울  1  1  5.729009  2.061995     0.0742  \n",
       "2  겨울  1  1  5.729009  2.061995     0.0742  \n",
       "3  겨울  1  1  5.729009  2.061995     0.0742  \n",
       "4  겨울  1  1  5.729009  2.061995     0.0742  "
      ]
     },
     "execution_count": 45,
     "metadata": {},
     "output_type": "execute_result"
    }
   ],
   "source": [
    "test_drop.head()"
   ]
  },
  {
   "cell_type": "code",
   "execution_count": 53,
   "metadata": {},
   "outputs": [
    {
     "data": {
      "text/plain": [
       "23"
      ]
     },
     "execution_count": 53,
     "metadata": {},
     "output_type": "execute_result"
    }
   ],
   "source": [
    "len(train_drop.columns)"
   ]
  },
  {
   "cell_type": "code",
   "execution_count": 57,
   "metadata": {},
   "outputs": [
    {
     "data": {
      "text/plain": [
       "Index(['격자넘버', '시간', '지점번호', '기온', '상대습도', '풍속', '강수량', '체감온도', '요일', '주중주말',\n",
       "       'CDH', 'HDH', '불쾌지수', '월', '일', '기온_계절별평균', '풍속_계절별평균', '강수량_계절별평균',\n",
       "       '계절_가을', '계절_겨울', '계절_봄', '계절_여름'],\n",
       "      dtype='object')"
      ]
     },
     "execution_count": 57,
     "metadata": {},
     "output_type": "execute_result"
    }
   ],
   "source": [
    "test_drop.columns"
   ]
  },
  {
   "cell_type": "code",
   "execution_count": 48,
   "metadata": {},
   "outputs": [],
   "source": [
    "# 계절 변수를 원핫인코딩\n",
    "test_drop = pd.get_dummies(test_drop, columns=['계절'])"
   ]
  },
  {
   "cell_type": "code",
   "execution_count": 62,
   "metadata": {},
   "outputs": [
    {
     "name": "stderr",
     "output_type": "stream",
     "text": [
      "Prediction Progress:   8%|▊         | 237896/2829478 [14:29<2:37:54, 273.53it/s]\n"
     ]
    },
    {
     "ename": "KeyboardInterrupt",
     "evalue": "",
     "output_type": "error",
     "traceback": [
      "\u001b[1;31m---------------------------------------------------------------------------\u001b[0m",
      "\u001b[1;31mFileNotFoundError\u001b[0m                         Traceback (most recent call last)",
      "File \u001b[1;32mc:\\Users\\삼성\\AppData\\Local\\Programs\\Python\\Python310\\lib\\genericpath.py:19\u001b[0m, in \u001b[0;36mexists\u001b[1;34m(path)\u001b[0m\n\u001b[0;32m     18\u001b[0m \u001b[38;5;28;01mtry\u001b[39;00m:\n\u001b[1;32m---> 19\u001b[0m     \u001b[43mos\u001b[49m\u001b[38;5;241;43m.\u001b[39;49m\u001b[43mstat\u001b[49m\u001b[43m(\u001b[49m\u001b[43mpath\u001b[49m\u001b[43m)\u001b[49m\n\u001b[0;32m     20\u001b[0m \u001b[38;5;28;01mexcept\u001b[39;00m (\u001b[38;5;167;01mOSError\u001b[39;00m, \u001b[38;5;167;01mValueError\u001b[39;00m):\n",
      "\u001b[1;31mFileNotFoundError\u001b[0m: [WinError 3] 지정된 경로를 찾을 수 없습니다: '/sys/fs/cgroup/cpu.max'",
      "\nDuring handling of the above exception, another exception occurred:\n",
      "\u001b[1;31mKeyboardInterrupt\u001b[0m                         Traceback (most recent call last)",
      "Input \u001b[1;32mIn [62]\u001b[0m, in \u001b[0;36m<cell line: 24>\u001b[1;34m()\u001b[0m\n\u001b[0;32m     21\u001b[0m     \u001b[38;5;28;01mreturn\u001b[39;00m predictions\n\u001b[0;32m     23\u001b[0m \u001b[38;5;66;03m# 새로운 데이터셋 (test_drop)을 불러와 예측 수행\u001b[39;00m\n\u001b[1;32m---> 24\u001b[0m predictions \u001b[38;5;241m=\u001b[39m \u001b[43mpredict_new_data\u001b[49m\u001b[43m(\u001b[49m\u001b[43mtest_drop\u001b[49m\u001b[43m,\u001b[49m\u001b[43m \u001b[49m\u001b[43mmodels\u001b[49m\u001b[43m)\u001b[49m\n\u001b[0;32m     25\u001b[0m \u001b[38;5;28mprint\u001b[39m(predictions)\n",
      "Input \u001b[1;32mIn [62]\u001b[0m, in \u001b[0;36mpredict_new_data\u001b[1;34m(test_drop, models)\u001b[0m\n\u001b[0;32m     14\u001b[0m     feature_columns \u001b[38;5;241m=\u001b[39m [\u001b[38;5;124m'\u001b[39m\u001b[38;5;124m격자넘버\u001b[39m\u001b[38;5;124m'\u001b[39m, \u001b[38;5;124m'\u001b[39m\u001b[38;5;124m시간\u001b[39m\u001b[38;5;124m'\u001b[39m, \u001b[38;5;124m'\u001b[39m\u001b[38;5;124m지점번호\u001b[39m\u001b[38;5;124m'\u001b[39m, \u001b[38;5;124m'\u001b[39m\u001b[38;5;124m기온\u001b[39m\u001b[38;5;124m'\u001b[39m, \u001b[38;5;124m'\u001b[39m\u001b[38;5;124m상대습도\u001b[39m\u001b[38;5;124m'\u001b[39m, \u001b[38;5;124m'\u001b[39m\u001b[38;5;124m풍속\u001b[39m\u001b[38;5;124m'\u001b[39m, \u001b[38;5;124m'\u001b[39m\u001b[38;5;124m강수량\u001b[39m\u001b[38;5;124m'\u001b[39m, \u001b[38;5;124m'\u001b[39m\u001b[38;5;124m체감온도\u001b[39m\u001b[38;5;124m'\u001b[39m, \u001b[38;5;124m'\u001b[39m\u001b[38;5;124m요일\u001b[39m\u001b[38;5;124m'\u001b[39m, \u001b[38;5;124m'\u001b[39m\u001b[38;5;124m주중주말\u001b[39m\u001b[38;5;124m'\u001b[39m,\n\u001b[0;32m     15\u001b[0m                        \u001b[38;5;124m'\u001b[39m\u001b[38;5;124mCDH\u001b[39m\u001b[38;5;124m'\u001b[39m, \u001b[38;5;124m'\u001b[39m\u001b[38;5;124mHDH\u001b[39m\u001b[38;5;124m'\u001b[39m, \u001b[38;5;124m'\u001b[39m\u001b[38;5;124m불쾌지수\u001b[39m\u001b[38;5;124m'\u001b[39m, \u001b[38;5;124m'\u001b[39m\u001b[38;5;124m월\u001b[39m\u001b[38;5;124m'\u001b[39m, \u001b[38;5;124m'\u001b[39m\u001b[38;5;124m일\u001b[39m\u001b[38;5;124m'\u001b[39m, \u001b[38;5;124m'\u001b[39m\u001b[38;5;124m기온_계절별평균\u001b[39m\u001b[38;5;124m'\u001b[39m, \u001b[38;5;124m'\u001b[39m\u001b[38;5;124m풍속_계절별평균\u001b[39m\u001b[38;5;124m'\u001b[39m, \u001b[38;5;124m'\u001b[39m\u001b[38;5;124m강수량_계절별평균\u001b[39m\u001b[38;5;124m'\u001b[39m,\n\u001b[0;32m     16\u001b[0m                        \u001b[38;5;124m'\u001b[39m\u001b[38;5;124m계절_가을\u001b[39m\u001b[38;5;124m'\u001b[39m, \u001b[38;5;124m'\u001b[39m\u001b[38;5;124m계절_겨울\u001b[39m\u001b[38;5;124m'\u001b[39m, \u001b[38;5;124m'\u001b[39m\u001b[38;5;124m계절_봄\u001b[39m\u001b[38;5;124m'\u001b[39m, \u001b[38;5;124m'\u001b[39m\u001b[38;5;124m계절_여름\u001b[39m\u001b[38;5;124m'\u001b[39m]\n\u001b[0;32m     17\u001b[0m     features \u001b[38;5;241m=\u001b[39m row[feature_columns]\u001b[38;5;241m.\u001b[39mvalues\u001b[38;5;241m.\u001b[39mreshape(\u001b[38;5;241m1\u001b[39m, \u001b[38;5;241m-\u001b[39m\u001b[38;5;241m1\u001b[39m)\n\u001b[1;32m---> 18\u001b[0m     prediction \u001b[38;5;241m=\u001b[39m \u001b[43mmodel\u001b[49m\u001b[38;5;241;43m.\u001b[39;49m\u001b[43mpredict\u001b[49m\u001b[43m(\u001b[49m\u001b[43mfeatures\u001b[49m\u001b[43m)\u001b[49m\n\u001b[0;32m     19\u001b[0m     predictions\u001b[38;5;241m.\u001b[39mappend(prediction[\u001b[38;5;241m0\u001b[39m])\n\u001b[0;32m     21\u001b[0m \u001b[38;5;28;01mreturn\u001b[39;00m predictions\n",
      "File \u001b[1;32mc:\\Users\\삼성\\AppData\\Local\\Programs\\Python\\Python310\\lib\\site-packages\\lightgbm\\sklearn.py:1033\u001b[0m, in \u001b[0;36mLGBMModel.predict\u001b[1;34m(self, X, raw_score, start_iteration, num_iteration, pred_leaf, pred_contrib, validate_features, **kwargs)\u001b[0m\n\u001b[0;32m   1030\u001b[0m \u001b[38;5;66;03m# number of threads can have values with special meaning which is only applied\u001b[39;00m\n\u001b[0;32m   1031\u001b[0m \u001b[38;5;66;03m# in the scikit-learn interface, these should not reach the c++ side as-is\u001b[39;00m\n\u001b[0;32m   1032\u001b[0m predict_params \u001b[38;5;241m=\u001b[39m _choose_param_value(\u001b[38;5;124m\"\u001b[39m\u001b[38;5;124mnum_threads\u001b[39m\u001b[38;5;124m\"\u001b[39m, predict_params, \u001b[38;5;28mself\u001b[39m\u001b[38;5;241m.\u001b[39mn_jobs)\n\u001b[1;32m-> 1033\u001b[0m predict_params[\u001b[38;5;124m\"\u001b[39m\u001b[38;5;124mnum_threads\u001b[39m\u001b[38;5;124m\"\u001b[39m] \u001b[38;5;241m=\u001b[39m \u001b[38;5;28;43mself\u001b[39;49m\u001b[38;5;241;43m.\u001b[39;49m\u001b[43m_process_n_jobs\u001b[49m\u001b[43m(\u001b[49m\u001b[43mpredict_params\u001b[49m\u001b[43m[\u001b[49m\u001b[38;5;124;43m\"\u001b[39;49m\u001b[38;5;124;43mnum_threads\u001b[39;49m\u001b[38;5;124;43m\"\u001b[39;49m\u001b[43m]\u001b[49m\u001b[43m)\u001b[49m\n\u001b[0;32m   1035\u001b[0m \u001b[38;5;28;01mreturn\u001b[39;00m \u001b[38;5;28mself\u001b[39m\u001b[38;5;241m.\u001b[39m_Booster\u001b[38;5;241m.\u001b[39mpredict(  \u001b[38;5;66;03m# type: ignore[union-attr]\u001b[39;00m\n\u001b[0;32m   1036\u001b[0m     X,\n\u001b[0;32m   1037\u001b[0m     raw_score\u001b[38;5;241m=\u001b[39mraw_score,\n\u001b[1;32m   (...)\u001b[0m\n\u001b[0;32m   1043\u001b[0m     \u001b[38;5;241m*\u001b[39m\u001b[38;5;241m*\u001b[39mpredict_params,\n\u001b[0;32m   1044\u001b[0m )\n",
      "File \u001b[1;32mc:\\Users\\삼성\\AppData\\Local\\Programs\\Python\\Python310\\lib\\site-packages\\lightgbm\\sklearn.py:817\u001b[0m, in \u001b[0;36mLGBMModel._process_n_jobs\u001b[1;34m(self, n_jobs)\u001b[0m\n\u001b[0;32m    803\u001b[0m \u001b[38;5;250m\u001b[39m\u001b[38;5;124;03m\"\"\"Convert special values of n_jobs to their actual values according to the formulas that apply.\u001b[39;00m\n\u001b[0;32m    804\u001b[0m \n\u001b[0;32m    805\u001b[0m \u001b[38;5;124;03mParameters\u001b[39;00m\n\u001b[1;32m   (...)\u001b[0m\n\u001b[0;32m    814\u001b[0m \u001b[38;5;124;03m    The value of n_jobs with special values converted to actual number of threads.\u001b[39;00m\n\u001b[0;32m    815\u001b[0m \u001b[38;5;124;03m\"\"\"\u001b[39;00m\n\u001b[0;32m    816\u001b[0m \u001b[38;5;28;01mif\u001b[39;00m n_jobs \u001b[38;5;129;01mis\u001b[39;00m \u001b[38;5;28;01mNone\u001b[39;00m:\n\u001b[1;32m--> 817\u001b[0m     n_jobs \u001b[38;5;241m=\u001b[39m \u001b[43m_LGBMCpuCount\u001b[49m\u001b[43m(\u001b[49m\u001b[43monly_physical_cores\u001b[49m\u001b[38;5;241;43m=\u001b[39;49m\u001b[38;5;28;43;01mTrue\u001b[39;49;00m\u001b[43m)\u001b[49m\n\u001b[0;32m    818\u001b[0m \u001b[38;5;28;01melif\u001b[39;00m n_jobs \u001b[38;5;241m<\u001b[39m \u001b[38;5;241m0\u001b[39m:\n\u001b[0;32m    819\u001b[0m     n_jobs \u001b[38;5;241m=\u001b[39m \u001b[38;5;28mmax\u001b[39m(_LGBMCpuCount(only_physical_cores\u001b[38;5;241m=\u001b[39m\u001b[38;5;28;01mFalse\u001b[39;00m) \u001b[38;5;241m+\u001b[39m \u001b[38;5;241m1\u001b[39m \u001b[38;5;241m+\u001b[39m n_jobs, \u001b[38;5;241m1\u001b[39m)\n",
      "File \u001b[1;32mc:\\Users\\삼성\\AppData\\Local\\Programs\\Python\\Python310\\lib\\site-packages\\lightgbm\\compat.py:266\u001b[0m, in \u001b[0;36m_LGBMCpuCount\u001b[1;34m(only_physical_cores)\u001b[0m\n\u001b[0;32m    265\u001b[0m \u001b[38;5;28;01mdef\u001b[39;00m \u001b[38;5;21m_LGBMCpuCount\u001b[39m(only_physical_cores: \u001b[38;5;28mbool\u001b[39m \u001b[38;5;241m=\u001b[39m \u001b[38;5;28;01mTrue\u001b[39;00m) \u001b[38;5;241m-\u001b[39m\u001b[38;5;241m>\u001b[39m \u001b[38;5;28mint\u001b[39m:\n\u001b[1;32m--> 266\u001b[0m     \u001b[38;5;28;01mreturn\u001b[39;00m \u001b[43mcpu_count\u001b[49m\u001b[43m(\u001b[49m\u001b[43monly_physical_cores\u001b[49m\u001b[38;5;241;43m=\u001b[39;49m\u001b[43monly_physical_cores\u001b[49m\u001b[43m)\u001b[49m\n",
      "File \u001b[1;32mc:\\Users\\삼성\\AppData\\Local\\Programs\\Python\\Python310\\lib\\site-packages\\joblib\\parallel.py:638\u001b[0m, in \u001b[0;36mcpu_count\u001b[1;34m(only_physical_cores)\u001b[0m\n\u001b[0;32m    635\u001b[0m \u001b[38;5;28;01mif\u001b[39;00m mp \u001b[38;5;129;01mis\u001b[39;00m \u001b[38;5;28;01mNone\u001b[39;00m:\n\u001b[0;32m    636\u001b[0m     \u001b[38;5;28;01mreturn\u001b[39;00m \u001b[38;5;241m1\u001b[39m\n\u001b[1;32m--> 638\u001b[0m \u001b[38;5;28;01mreturn\u001b[39;00m \u001b[43mloky\u001b[49m\u001b[38;5;241;43m.\u001b[39;49m\u001b[43mcpu_count\u001b[49m\u001b[43m(\u001b[49m\u001b[43monly_physical_cores\u001b[49m\u001b[38;5;241;43m=\u001b[39;49m\u001b[43monly_physical_cores\u001b[49m\u001b[43m)\u001b[49m\n",
      "File \u001b[1;32mc:\\Users\\삼성\\AppData\\Local\\Programs\\Python\\Python310\\lib\\site-packages\\joblib\\externals\\loky\\backend\\context.py:119\u001b[0m, in \u001b[0;36mcpu_count\u001b[1;34m(only_physical_cores)\u001b[0m\n\u001b[0;32m    111\u001b[0m \u001b[38;5;28;01mif\u001b[39;00m sys\u001b[38;5;241m.\u001b[39mplatform \u001b[38;5;241m==\u001b[39m \u001b[38;5;124m\"\u001b[39m\u001b[38;5;124mwin32\u001b[39m\u001b[38;5;124m\"\u001b[39m:\n\u001b[0;32m    112\u001b[0m     \u001b[38;5;66;03m# On Windows, attempting to use more than 61 CPUs would result in a\u001b[39;00m\n\u001b[0;32m    113\u001b[0m     \u001b[38;5;66;03m# OS-level error. See https://bugs.python.org/issue26903. According to\u001b[39;00m\n\u001b[0;32m    114\u001b[0m     \u001b[38;5;66;03m# https://learn.microsoft.com/en-us/windows/win32/procthread/processor-groups\u001b[39;00m\n\u001b[0;32m    115\u001b[0m     \u001b[38;5;66;03m# it might be possible to go beyond with a lot of extra work but this\u001b[39;00m\n\u001b[0;32m    116\u001b[0m     \u001b[38;5;66;03m# does not look easy.\u001b[39;00m\n\u001b[0;32m    117\u001b[0m     os_cpu_count \u001b[38;5;241m=\u001b[39m \u001b[38;5;28mmin\u001b[39m(os_cpu_count, _MAX_WINDOWS_WORKERS)\n\u001b[1;32m--> 119\u001b[0m cpu_count_user \u001b[38;5;241m=\u001b[39m \u001b[43m_cpu_count_user\u001b[49m\u001b[43m(\u001b[49m\u001b[43mos_cpu_count\u001b[49m\u001b[43m)\u001b[49m\n\u001b[0;32m    120\u001b[0m aggregate_cpu_count \u001b[38;5;241m=\u001b[39m \u001b[38;5;28mmax\u001b[39m(\u001b[38;5;28mmin\u001b[39m(os_cpu_count, cpu_count_user), \u001b[38;5;241m1\u001b[39m)\n\u001b[0;32m    122\u001b[0m \u001b[38;5;28;01mif\u001b[39;00m \u001b[38;5;129;01mnot\u001b[39;00m only_physical_cores:\n",
      "File \u001b[1;32mc:\\Users\\삼성\\AppData\\Local\\Programs\\Python\\Python310\\lib\\site-packages\\joblib\\externals\\loky\\backend\\context.py:224\u001b[0m, in \u001b[0;36m_cpu_count_user\u001b[1;34m(os_cpu_count)\u001b[0m\n\u001b[0;32m    221\u001b[0m \u001b[38;5;250m\u001b[39m\u001b[38;5;124;03m\"\"\"Number of user defined available CPUs\"\"\"\u001b[39;00m\n\u001b[0;32m    222\u001b[0m cpu_count_affinity \u001b[38;5;241m=\u001b[39m _cpu_count_affinity(os_cpu_count)\n\u001b[1;32m--> 224\u001b[0m cpu_count_cgroup \u001b[38;5;241m=\u001b[39m \u001b[43m_cpu_count_cgroup\u001b[49m\u001b[43m(\u001b[49m\u001b[43mos_cpu_count\u001b[49m\u001b[43m)\u001b[49m\n\u001b[0;32m    226\u001b[0m \u001b[38;5;66;03m# User defined soft-limit passed as a loky specific environment variable.\u001b[39;00m\n\u001b[0;32m    227\u001b[0m cpu_count_loky \u001b[38;5;241m=\u001b[39m \u001b[38;5;28mint\u001b[39m(os\u001b[38;5;241m.\u001b[39menviron\u001b[38;5;241m.\u001b[39mget(\u001b[38;5;124m\"\u001b[39m\u001b[38;5;124mLOKY_MAX_CPU_COUNT\u001b[39m\u001b[38;5;124m\"\u001b[39m, os_cpu_count))\n",
      "File \u001b[1;32mc:\\Users\\삼성\\AppData\\Local\\Programs\\Python\\Python310\\lib\\site-packages\\joblib\\externals\\loky\\backend\\context.py:153\u001b[0m, in \u001b[0;36m_cpu_count_cgroup\u001b[1;34m(os_cpu_count)\u001b[0m\n\u001b[0;32m    151\u001b[0m cfs_quota_fname \u001b[38;5;241m=\u001b[39m \u001b[38;5;124m\"\u001b[39m\u001b[38;5;124m/sys/fs/cgroup/cpu/cpu.cfs_quota_us\u001b[39m\u001b[38;5;124m\"\u001b[39m\n\u001b[0;32m    152\u001b[0m cfs_period_fname \u001b[38;5;241m=\u001b[39m \u001b[38;5;124m\"\u001b[39m\u001b[38;5;124m/sys/fs/cgroup/cpu/cpu.cfs_period_us\u001b[39m\u001b[38;5;124m\"\u001b[39m\n\u001b[1;32m--> 153\u001b[0m \u001b[38;5;28;01mif\u001b[39;00m \u001b[43mos\u001b[49m\u001b[38;5;241;43m.\u001b[39;49m\u001b[43mpath\u001b[49m\u001b[38;5;241;43m.\u001b[39;49m\u001b[43mexists\u001b[49m\u001b[43m(\u001b[49m\u001b[43mcpu_max_fname\u001b[49m\u001b[43m)\u001b[49m:\n\u001b[0;32m    154\u001b[0m     \u001b[38;5;66;03m# cgroup v2\u001b[39;00m\n\u001b[0;32m    155\u001b[0m     \u001b[38;5;66;03m# https://www.kernel.org/doc/html/latest/admin-guide/cgroup-v2.html\u001b[39;00m\n\u001b[0;32m    156\u001b[0m     \u001b[38;5;28;01mwith\u001b[39;00m \u001b[38;5;28mopen\u001b[39m(cpu_max_fname) \u001b[38;5;28;01mas\u001b[39;00m fh:\n\u001b[0;32m    157\u001b[0m         cpu_quota_us, cpu_period_us \u001b[38;5;241m=\u001b[39m fh\u001b[38;5;241m.\u001b[39mread()\u001b[38;5;241m.\u001b[39mstrip()\u001b[38;5;241m.\u001b[39msplit()\n",
      "File \u001b[1;32mc:\\Users\\삼성\\AppData\\Local\\Programs\\Python\\Python310\\lib\\genericpath.py:19\u001b[0m, in \u001b[0;36mexists\u001b[1;34m(path)\u001b[0m\n\u001b[0;32m     17\u001b[0m \u001b[38;5;250m\u001b[39m\u001b[38;5;124;03m\"\"\"Test whether a path exists.  Returns False for broken symbolic links\"\"\"\u001b[39;00m\n\u001b[0;32m     18\u001b[0m \u001b[38;5;28;01mtry\u001b[39;00m:\n\u001b[1;32m---> 19\u001b[0m     \u001b[43mos\u001b[49m\u001b[38;5;241;43m.\u001b[39;49m\u001b[43mstat\u001b[49m\u001b[43m(\u001b[49m\u001b[43mpath\u001b[49m\u001b[43m)\u001b[49m\n\u001b[0;32m     20\u001b[0m \u001b[38;5;28;01mexcept\u001b[39;00m (\u001b[38;5;167;01mOSError\u001b[39;00m, \u001b[38;5;167;01mValueError\u001b[39;00m):\n\u001b[0;32m     21\u001b[0m     \u001b[38;5;28;01mreturn\u001b[39;00m \u001b[38;5;28;01mFalse\u001b[39;00m\n",
      "\u001b[1;31mKeyboardInterrupt\u001b[0m: "
     ]
    }
   ],
   "source": [
    "from tqdm import tqdm\n",
    "\n",
    "# 새로운 데이터에 대해 예측\n",
    "def predict_new_data(test_drop, models):\n",
    "    predictions = []\n",
    "    # tqdm으로 감싸서 진행 상황을 표시\n",
    "    for _, row in tqdm(test_drop.iterrows(), desc=\"Prediction Progress\", total=len(test_drop)):\n",
    "        # 계절 정보 추출\n",
    "        season_columns = ['계절_가을', '계절_겨울', '계절_봄', '계절_여름']\n",
    "        season = row[season_columns].idxmax()\n",
    "        model = models[season]\n",
    "        \n",
    "        # 학습할 때 사용한 특징만 추출\n",
    "        feature_columns = ['격자넘버', '시간', '지점번호', '기온', '상대습도', '풍속', '강수량', '체감온도', '요일', '주중주말',\n",
    "                           'CDH', 'HDH', '불쾌지수', '월', '일', '기온_계절별평균', '풍속_계절별평균', '강수량_계절별평균',\n",
    "                           '계절_가을', '계절_겨울', '계절_봄', '계절_여름']\n",
    "        features = row[feature_columns].values.reshape(1, -1)\n",
    "        prediction = model.predict(features)\n",
    "        predictions.append(prediction[0])\n",
    "    \n",
    "    return predictions\n",
    "\n",
    "# 새로운 데이터셋 (test_drop)을 불러와 예측 수행\n",
    "predictions = predict_new_data(test_drop, models)\n",
    "print(predictions)\n"
   ]
  },
  {
   "cell_type": "code",
   "execution_count": null,
   "metadata": {},
   "outputs": [],
   "source": []
  },
  {
   "cell_type": "code",
   "execution_count": null,
   "metadata": {},
   "outputs": [],
   "source": []
  },
  {
   "cell_type": "code",
   "execution_count": 12,
   "metadata": {},
   "outputs": [
    {
     "name": "stdout",
     "output_type": "stream",
     "text": [
      "Requirement already satisfied: lightgbm in c:\\users\\삼성\\appdata\\local\\programs\\python\\python310\\lib\\site-packages (4.4.0)Note: you may need to restart the kernel to use updated packages.\n",
      "\n",
      "Requirement already satisfied: numpy>=1.17.0 in c:\\users\\삼성\\appdata\\local\\programs\\python\\python310\\lib\\site-packages (from lightgbm) (1.26.3)\n",
      "Requirement already satisfied: scipy in c:\\users\\삼성\\appdata\\local\\programs\\python\\python310\\lib\\site-packages (from lightgbm) (1.12.0)\n"
     ]
    }
   ],
   "source": [
    "pip install lightgbm"
   ]
  },
  {
   "cell_type": "code",
   "execution_count": 17,
   "metadata": {},
   "outputs": [],
   "source": [
    "import pandas as pd\n",
    "import lightgbm as lgb\n",
    "from sklearn.model_selection import train_test_split, GridSearchCV\n",
    "from sklearn.metrics import r2_score\n",
    "from sklearn.preprocessing import StandardScaler, OneHotEncoder\n",
    "from sklearn.compose import ColumnTransformer\n",
    "from sklearn.pipeline import Pipeline\n",
    "from sklearn.metrics import mean_absolute_error, mean_squared_error\n",
    "import numpy as np"
   ]
  },
  {
   "cell_type": "code",
   "execution_count": 18,
   "metadata": {},
   "outputs": [
    {
     "name": "stdout",
     "output_type": "stream",
     "text": [
      "[LightGBM] [Info] Auto-choosing row-wise multi-threading, the overhead of testing was 0.444215 seconds.\n",
      "You can set `force_row_wise=true` to remove the overhead.\n",
      "And if memory is not enough, you can set `force_col_wise=true`.\n",
      "[LightGBM] [Info] Total Bins 2628\n",
      "[LightGBM] [Info] Number of data points in the train set: 6074544, number of used features: 23\n",
      "[LightGBM] [Info] Start training from score 9410.300111\n",
      "Validation MAE by Random Search: 2089.923055598035\n",
      "Validation MSE by Random Search: 9423587.924153812\n",
      "Validation RMSE by Random Search: 3069.7862994276675\n",
      "Validation R² by Random Search: 0.8761807325638306\n"
     ]
    }
   ],
   "source": [
    "# 특징 변수와 타겟 변수 분리\n",
    "X = train_drop.drop(['전력수요합계'], axis=1)  # 타겟 변수는 '기온'이라고 가정\n",
    "y = train_drop['전력수요합계']\n",
    "\n",
    "# 원핫 인코딩 및 스케일링\n",
    "categorical_features = ['계절']\n",
    "numeric_features = [col for col in X.columns if col not in categorical_features]\n",
    "\n",
    "preprocessor = ColumnTransformer(\n",
    "    transformers=[\n",
    "        ('num', StandardScaler(), numeric_features),\n",
    "        ('cat', OneHotEncoder(), categorical_features)\n",
    "    ])\n",
    "\n",
    "\n",
    "X_train, X_test, y_train, y_test = train_test_split(X, y, test_size=0.2, random_state=42)\n",
    "\n",
    "# 파이프라인 생성\n",
    "model = Pipeline(steps=[('preprocessor', preprocessor),\n",
    "                        ('regressor', lgb.LGBMRegressor())])\n",
    "\n",
    "model.fit(X_train, y_train)\n",
    "\n",
    "# 모델 성능 평가\n",
    "y_pred = model.predict(X_test)\n",
    "\n",
    "# 평가 지표 계산\n",
    "mae = mean_absolute_error(y_test, y_pred)\n",
    "mse = mean_squared_error(y_test, y_pred)\n",
    "rmse = np.sqrt(mse)\n",
    "r2 = r2_score(y_test, y_pred)\n",
    "\n",
    "print(\"Validation MAE by Random Search:\", mae)\n",
    "print(\"Validation MSE by Random Search:\", mse)\n",
    "print(\"Validation RMSE by Random Search:\", rmse)\n",
    "print(\"Validation R² by Random Search:\", r2)"
   ]
  },
  {
   "cell_type": "code",
   "execution_count": null,
   "metadata": {},
   "outputs": [],
   "source": []
  }
 ],
 "metadata": {
  "kernelspec": {
   "display_name": "Python 3",
   "language": "python",
   "name": "python3"
  },
  "language_info": {
   "codemirror_mode": {
    "name": "ipython",
    "version": 3
   },
   "file_extension": ".py",
   "mimetype": "text/x-python",
   "name": "python",
   "nbconvert_exporter": "python",
   "pygments_lexer": "ipython3",
   "version": "3.10.4"
  }
 },
 "nbformat": 4,
 "nbformat_minor": 2
}
